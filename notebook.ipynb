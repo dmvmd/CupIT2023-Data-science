{
 "cells": [
  {
   "cell_type": "markdown",
   "id": "afcfaf83",
   "metadata": {},
   "source": [
    "## Конвертация данных для обучения в более удобный для feature-extraction формат"
   ]
  },
  {
   "cell_type": "code",
   "execution_count": null,
   "id": "5ff3a384",
   "metadata": {},
   "outputs": [],
   "source": [
    "import pandas as pd\n",
    "import numpy as np"
   ]
  },
  {
   "cell_type": "code",
   "execution_count": null,
   "id": "343b973f",
   "metadata": {},
   "outputs": [],
   "source": [
    "train = pd.read_json('ranking_train.jsonl', lines=True, encoding='utf-8')\n",
    "NUMBER_OF_COMMENTS = 5\n",
    "\n",
    "text_df = pd.DataFrame(np.repeat(train['text'].values, NUMBER_OF_COMMENTS), columns=['post'])\n",
    "commentary = []\n",
    "\n",
    "for row in train['comments'].values:\n",
    "    for j in range(NUMBER_OF_COMMENTS):\n",
    "        commentary.append([row[j]['text'], row[j]['score']])\n",
    "        \n",
    "commentary_df = pd.DataFrame(commentary, columns=['comment', 'score'])\n",
    "\n",
    "\n",
    "train = pd.concat([text_df, commentary_df], axis=1)"
   ]
  },
  {
   "cell_type": "code",
   "execution_count": null,
   "id": "1d142042",
   "metadata": {},
   "outputs": [],
   "source": [
    "test = pd.read_json('ranking_test.jsonl', lines=True, encoding='utf-8')\n",
    "NUMBER_OF_COMMENTS = 5\n",
    "\n",
    "text_df = pd.DataFrame(np.repeat(test['text'].values, NUMBER_OF_COMMENTS), columns=['post'])\n",
    "commentary = []\n",
    "\n",
    "for row in test['comments'].values:\n",
    "    for j in range(NUMBER_OF_COMMENTS):\n",
    "        commentary.append(row[j]['text'])\n",
    "        \n",
    "commentary_df = pd.DataFrame(commentary, columns=['comment'])\n",
    "\n",
    "\n",
    "test = pd.concat([text_df, commentary_df], axis=1)"
   ]
  },
  {
   "cell_type": "markdown",
   "id": "f0907032",
   "metadata": {},
   "source": [
    "## Избавление от проблем с кодировкой"
   ]
  },
  {
   "cell_type": "code",
   "execution_count": null,
   "id": "c655b0e3",
   "metadata": {},
   "outputs": [],
   "source": [
    "from html import unescape\n",
    "\n",
    "for col in ['post', 'comment']:\n",
    "    train[col] = train[col].apply(unescape).apply(unescape)\n",
    "    test[col] = test[col].apply(unescape).apply(unescape)"
   ]
  },
  {
   "cell_type": "markdown",
   "id": "7c6987bf",
   "metadata": {},
   "source": [
    "## Майнинг фичей"
   ]
  },
  {
   "cell_type": "markdown",
   "id": "ff2905a2",
   "metadata": {},
   "source": [
    "### Длина комментария в символах"
   ]
  },
  {
   "cell_type": "code",
   "execution_count": null,
   "id": "38fa9f42",
   "metadata": {},
   "outputs": [],
   "source": [
    "train['num_of_symbols'] = train['comment'].apply(len)\n",
    "test['num_of_symbols'] = test['comment'].apply(len)"
   ]
  },
  {
   "cell_type": "markdown",
   "id": "7a951249",
   "metadata": {},
   "source": [
    "### Количество слов в комментарии"
   ]
  },
  {
   "cell_type": "code",
   "execution_count": null,
   "id": "f1c52096",
   "metadata": {},
   "outputs": [],
   "source": [
    "def word_count(text: str) -> int:\n",
    "    return len(text.split())\n",
    "\n",
    "train['num_of_words'] = train['comment'].apply(word_count)\n",
    "test['num_of_words'] = test['comment'].apply(word_count)"
   ]
  },
  {
   "cell_type": "markdown",
   "id": "e8e27805",
   "metadata": {},
   "source": [
    "### Количество предложений в комментарии"
   ]
  },
  {
   "cell_type": "code",
   "execution_count": null,
   "id": "221fe296",
   "metadata": {},
   "outputs": [],
   "source": [
    "import re\n",
    "\n",
    "def sentence_count(text: str) -> int:\n",
    "    return len(re.split(r'\\s*([^.?!]+)\\s*', text))\n",
    "\n",
    "train['num_of_sentences'] = train['comment'].apply(sentence_count)\n",
    "test['num_of_sentences'] = test['comment'].apply(sentence_count)"
   ]
  },
  {
   "cell_type": "markdown",
   "id": "2990d95a",
   "metadata": {},
   "source": [
    "### Количество гласных в комментарии"
   ]
  },
  {
   "cell_type": "code",
   "execution_count": null,
   "id": "b011fbd4",
   "metadata": {},
   "outputs": [],
   "source": [
    "vowels = set('AaEeIiOoYy')\n",
    "\n",
    "def vowels_count(text: str) -> int:\n",
    "    \n",
    "    vowels_count = 0\n",
    "    for vowel in vowels:\n",
    "        vowels_count += text.count(vowel)\n",
    "        \n",
    "    return vowels_count\n",
    "\n",
    "train['num_of_vowels'] = train['comment'].apply(vowels_count)\n",
    "test['num_of_vowels'] = test['comment'].apply(vowels_count)"
   ]
  },
  {
   "cell_type": "markdown",
   "id": "7dbb4c2c",
   "metadata": {},
   "source": [
    "### Количество цитат в комментарии"
   ]
  },
  {
   "cell_type": "code",
   "execution_count": null,
   "id": "0fd05c04",
   "metadata": {},
   "outputs": [],
   "source": [
    "import math\n",
    "\n",
    "def quotes_count(text: str) -> int:\n",
    "    return math.floor(text.count('\"') / 2)\n",
    "\n",
    "train['quotes'] = train['comment'].apply(quotes_count)\n",
    "test['quotes'] = test['comment'].apply(quotes_count)"
   ]
  },
  {
   "cell_type": "markdown",
   "id": "122ba393",
   "metadata": {},
   "source": [
    "### Количество восклицательных знаков в комментарии"
   ]
  },
  {
   "cell_type": "code",
   "execution_count": null,
   "id": "236deac2",
   "metadata": {},
   "outputs": [],
   "source": [
    "train['exclamations'] = train['comment'].apply(lambda text: text.count('!'))\n",
    "test['exclamations'] = test['comment'].apply(lambda text: text.count('!'))"
   ]
  },
  {
   "cell_type": "markdown",
   "id": "0229e84a",
   "metadata": {},
   "source": [
    "### Количество вопросительных знаков в комментарии"
   ]
  },
  {
   "cell_type": "code",
   "execution_count": null,
   "id": "d8c89e4f",
   "metadata": {},
   "outputs": [],
   "source": [
    "train['questions'] = train['comment'].apply(lambda x: x.count('?'))\n",
    "test['questions'] = test['comment'].apply(lambda x: x.count('?'))"
   ]
  },
  {
   "cell_type": "markdown",
   "id": "936e7bda",
   "metadata": {},
   "source": [
    "### Flesch Formula (Reading Ease score)"
   ]
  },
  {
   "cell_type": "code",
   "execution_count": null,
   "id": "ecd98921",
   "metadata": {},
   "outputs": [],
   "source": [
    "def calculateRSE(data: pd.DataFrame) -> float:\n",
    "    ASL = 1.015 * data['num_of_words'] / data['num_of_sentences']\n",
    "    ASW = 84.6 * data['num_of_vowels'] / data['num_of_words']\n",
    "    return 206.835 - ASL  - ASW\n",
    "\n",
    "train['RES'] = calculateRSE(train)\n",
    "test['RES'] = calculateRSE(test)"
   ]
  },
  {
   "cell_type": "markdown",
   "id": "50530d7e",
   "metadata": {},
   "source": [
    "### Количество ссылок"
   ]
  },
  {
   "cell_type": "code",
   "execution_count": null,
   "id": "4cea8b5a",
   "metadata": {},
   "outputs": [],
   "source": [
    "import re\n",
    "\n",
    "def count_links(text: str) -> int:\n",
    "    return len(re.findall(r'(https://.+?\\..+?)', text))\n",
    "\n",
    "train['num_of_links'] = train['comment'].apply(count_links)\n",
    "test['num_of_links'] = test['comment'].apply(count_links)"
   ]
  },
  {
   "cell_type": "markdown",
   "id": "c7f3b68c",
   "metadata": {},
   "source": [
    "### Близость поста и комментария по полярности"
   ]
  },
  {
   "cell_type": "code",
   "execution_count": null,
   "id": "595c6aad",
   "metadata": {},
   "outputs": [],
   "source": [
    "import textblob\n",
    "\n",
    "def text_polarity(text_1: str, text_2: str) -> [-1, 1]:\n",
    "    return 1/( 1 + abs(textblob.TextBlob(text_1).polarity - textblob.TextBlob(text_2).polarity))\n",
    "\n",
    "train['text_comment_polarity'] = train[['post', 'comment']].apply(lambda x: text_polarity(*x), axis=1)\n",
    "test['text_comment_polarity'] = test[['post', 'comment']].apply(lambda x: text_polarity(*x), axis=1)"
   ]
  },
  {
   "cell_type": "markdown",
   "id": "13bd4a1b",
   "metadata": {},
   "source": [
    "### Близость поста и комментария по объективности"
   ]
  },
  {
   "cell_type": "code",
   "execution_count": null,
   "id": "a01024d2",
   "metadata": {},
   "outputs": [],
   "source": [
    "def text_subjectivity(text_1: str, text_2: str) -> [0, 1]:\n",
    "    return 1 / (1 + abs(textblob.TextBlob(text_1).subjectivity - textblob.TextBlob(text_2).subjectivity))\n",
    "\n",
    "train['text_comment_subjectivity'] = train[['post', 'comment']].apply(lambda x: text_subjectivity(*x), axis=1)\n",
    "test['text_comment_subjectivity'] = test[['post', 'comment']].apply(lambda x: text_subjectivity(*x), axis=1)"
   ]
  },
  {
   "cell_type": "markdown",
   "id": "e9ae3588",
   "metadata": {},
   "source": [
    "### Количество процентов в комментарии"
   ]
  },
  {
   "cell_type": "code",
   "execution_count": null,
   "id": "9f8bf384",
   "metadata": {},
   "outputs": [],
   "source": [
    "import re\n",
    "\n",
    "def statistics_counter(text: str) -> int:\n",
    "    return len(re.findall('([0-9]*\\.?[0-9]*)\\s*%', text))\n",
    "\n",
    "train['amount_of_percent'] = train['comment'].apply(statistics_counter)\n",
    "test['amount_of_percent'] = test['comment'].apply(statistics_counter)"
   ]
  },
  {
   "cell_type": "markdown",
   "id": "d76b72cf",
   "metadata": {},
   "source": [
    "### Количество не-ascii символов в комментарии"
   ]
  },
  {
   "cell_type": "code",
   "execution_count": null,
   "id": "706db8ba",
   "metadata": {},
   "outputs": [],
   "source": [
    "ascii_string = set(\"\"\" !\"#$%&\\'()*+,-./0123456789:;<=>?@ABCDEFGHIJKLMNOPQRSTUVWXYZ[\\\\]^_`abcdefghijklmnopqrstuvwxyz{|}~\"\"\")\n",
    "\n",
    "def count_non_ascii(text: str) -> int:\n",
    "    ascii_count = sum(c in ascii_string for c in text)\n",
    "    return len(text) - ascii_count\n",
    "\n",
    "train['non_ascii_num'] = train['comment'].apply(count_non_ascii)\n",
    "test['non_ascii_num'] = test['comment'].apply(count_non_ascii)"
   ]
  },
  {
   "cell_type": "markdown",
   "id": "a5ec47e3",
   "metadata": {},
   "source": [
    "### Количество заглавных букв"
   ]
  },
  {
   "cell_type": "code",
   "execution_count": null,
   "id": "2760ef31",
   "metadata": {},
   "outputs": [],
   "source": [
    "uppercase = set('ABCDEFGHIJKLMNOPQRSTUVWXYZ')\n",
    "\n",
    "def count_uppercase(text: str) -> int:\n",
    "    return sum(c in uppercase for c in text)\n",
    "\n",
    "train['uppercase_num'] = train['comment'].apply(count_uppercase)\n",
    "test['uppercase_num'] = test['comment'].apply(count_uppercase)"
   ]
  },
  {
   "cell_type": "markdown",
   "id": "7c2f7f86",
   "metadata": {},
   "source": [
    "### Отношение длины комментария к длине поста"
   ]
  },
  {
   "cell_type": "code",
   "execution_count": null,
   "id": "6372ef1a",
   "metadata": {},
   "outputs": [],
   "source": [
    "train['post_comment_length_ratio'] = train['comment'].apply(len) / train['post'].apply(len)\n",
    "test['post_comment_length_ratio'] = test['comment'].apply(len) / test['post'].apply(len)"
   ]
  },
  {
   "cell_type": "markdown",
   "id": "21f206a1",
   "metadata": {},
   "source": [
    "## Скачивание получившихся датасетов"
   ]
  },
  {
   "cell_type": "code",
   "execution_count": null,
   "id": "dd241304",
   "metadata": {},
   "outputs": [],
   "source": [
    "train.to_csv(\"first_train.csv\", index=False)\n",
    "test.to_csv(\"test.csv\", index=False)"
   ]
  },
  {
   "cell_type": "markdown",
   "id": "b4ec85b4",
   "metadata": {},
   "source": [
    "## Визуализация результатов"
   ]
  },
  {
   "cell_type": "code",
   "execution_count": null,
   "id": "d1f97803",
   "metadata": {},
   "outputs": [],
   "source": [
    "feature_cols = [\n",
    "    'num_of_symbols', 'num_of_words',\n",
    "    'num_of_sentences', 'num_of_vowels', \n",
    "    'quotes', 'exclamations',\n",
    "    'questions', 'RES', 'num_of_links', \n",
    "    'text_comment_polarity', 'text_comment_subjectivity', \n",
    "    'amount_of_percent', 'non_ascii_num',\n",
    "    'uppercase_num', 'post_comment_length_ratio'\n",
    "]\n",
    "\n",
    "target_col = 'score'"
   ]
  },
  {
   "cell_type": "code",
   "execution_count": null,
   "id": "b2790a55",
   "metadata": {},
   "outputs": [],
   "source": [
    "import matplotlib.pyplot as plt\n",
    "import math\n",
    "\n",
    "fig, ax = plt.subplots(4, 4, figsize=(16,16))\n",
    "\n",
    "for index, col in enumerate(feature_cols):\n",
    "    data = train.groupby(target_col, as_index=False).agg({col: np.mean}) #Вместо np.mean ваша функция\n",
    "    ax[math.floor(index / 4), index % 4].bar(data[target_col], data[col])\n",
    "    ax[math.floor(index / 4), index % 4].set_title(col)\n",
    "fig.tight_layout()\n",
    "plt.show()"
   ]
  },
  {
   "cell_type": "markdown",
   "id": "4651faf3",
   "metadata": {},
   "source": [
    "> link из приведённых графиков и здравого смысла можем понять, что все фичи завязаны на длине комментария"
   ]
  },
  {
   "cell_type": "markdown",
   "id": "0f844a9a",
   "metadata": {},
   "source": [
    "## Обучение модели"
   ]
  },
  {
   "cell_type": "code",
   "execution_count": null,
   "id": "e43ea6b9",
   "metadata": {},
   "outputs": [],
   "source": [
    "import pandas as pd\n",
    "import numpy as np\n",
    "\n",
    "from catboost import CatBoostRanker, CatBoostClassifier, CatBoostRegressor, Pool\n",
    "\n",
    "from sklearn.pipeline import Pipeline\n",
    "from sklearn.model_selection import StratifiedKFold,  GridSearchCV, KFold\n",
    "from sklearn.model_selection import GroupShuffleSplit \n",
    "from sklearn.metrics import ndcg_score\n",
    "\n",
    "from sklearn.ensemble import VotingClassifier\n",
    "\n",
    "from sklearn.metrics import confusion_matrix, accuracy_score, precision_score\n",
    "from sklearn.metrics import recall_score, f1_score, classification_report\n",
    "\n",
    "from sklearn.metrics import precision_recall_curve\n",
    "from sklearn.model_selection import train_test_split\n",
    "from sklearn.metrics import roc_curve\n",
    "from sklearn.metrics import roc_auc_score\n",
    "from sklearn.metrics import make_scorer\n",
    "\n",
    "import warnings\n",
    "warnings.filterwarnings('ignore')"
   ]
  },
  {
   "cell_type": "markdown",
   "id": "7cc9dc79",
   "metadata": {},
   "source": [
    "### Подготовка данных к обучению"
   ]
  },
  {
   "cell_type": "code",
   "execution_count": null,
   "id": "db981024",
   "metadata": {},
   "outputs": [],
   "source": [
    "train_features = train #pd.read_csv(\"first_train.csv\")\n",
    "\n",
    "train_features['score'] = 4 - train_features['score']\n",
    "\n",
    "train_features = train_features.drop([\"post\", \"comment\"], axis = 1)\n",
    "\n",
    "group_id = pd.Series([i//5 for i in range(train_features.shape[0])])\n",
    "\n",
    "train_features[\"group_id\"] = group_id"
   ]
  },
  {
   "cell_type": "markdown",
   "id": "94f9142a",
   "metadata": {},
   "source": [
    "### Разделение на train и validation выборки"
   ]
  },
  {
   "cell_type": "code",
   "execution_count": null,
   "id": "f89a051c",
   "metadata": {},
   "outputs": [],
   "source": [
    "splitter = GroupShuffleSplit(test_size=.30, n_splits=2, random_state = 42)\n",
    "split = splitter.split(train_features, groups=train_features['group_id'])\n",
    "train_inds, valid_inds = next(split)\n",
    "\n",
    "train = train_features.iloc[train_inds]\n",
    "valid = train_features.iloc[valid_inds]"
   ]
  },
  {
   "cell_type": "markdown",
   "id": "79e2b4b9",
   "metadata": {},
   "source": [
    "### Добавление параметра group_id"
   ]
  },
  {
   "cell_type": "code",
   "execution_count": null,
   "id": "fc808d11",
   "metadata": {},
   "outputs": [],
   "source": [
    "group_train = train[\"group_id\"]\n",
    "group_val = valid[\"group_id\"]\n",
    "\n",
    "train = train.drop([\"group_id\"], axis = 1)\n",
    "valid = valid.drop([\"group_id\"], axis = 1)\n",
    "\n",
    "y_train = train[\"score\"]\n",
    "X_train = train.drop([\"score\"], axis = 1)\n",
    "\n",
    "y_val = valid[\"score\"]\n",
    "X_val= valid.drop([\"score\"], axis = 1)\n",
    "\n",
    "#cross validation\n",
    "cv = StratifiedKFold(shuffle=True, n_splits = 4)"
   ]
  },
  {
   "cell_type": "code",
   "execution_count": null,
   "id": "ed0ff2c0",
   "metadata": {},
   "outputs": [],
   "source": [
    "def ndcg_score(y_true, y_pred):\n",
    "    ndcg_sum = 0\n",
    "    k=0\n",
    "    for i in range(len(y_true)//5):\n",
    "        k+=1\n",
    "        ncdg_sum+=ncdg_score(y_true[5*i: i*(5+1)], y_pred[5*i: i*(5+1)], 5)\n",
    "    return ndcg_sum/k\n",
    "\n",
    "# Define the scoring function using make_scorer\n",
    "ndcg_scorer = make_scorer(ndcg_score, needs_proba=False, greater_is_better=True)"
   ]
  },
  {
   "cell_type": "markdown",
   "id": "4870b5d4",
   "metadata": {},
   "source": [
    "### Обучение модели (catboost ranking)"
   ]
  },
  {
   "cell_type": "code",
   "execution_count": null,
   "id": "6a84b601",
   "metadata": {},
   "outputs": [],
   "source": [
    "val = Pool(X_val, y_val, group_id = group_val)\n",
    "\n",
    "\n",
    "#grid of parameters\n",
    "params_cat = {'depth': [4, 5, 7],\n",
    "              'l2_leaf_reg': [7, 10],\n",
    "              'learning_rate': [0.05, 0.1, 0.15]}\n",
    "\n",
    "\n",
    "model_cat = CatBoostRanker(loss_function='YetiRank', custom_metric='NDCG') #Catboost model for ranking\n",
    "\n",
    "#gridsearch model\n",
    "GS_cat = GridSearchCV(cv =cv, estimator = model_cat, param_grid = params_cat, scoring = ndcg_scorer)\n",
    "\n",
    "#fitting\n",
    "GS_cat.fit(X_train, y_train, group_id=group_train, eval_set = val, verbose = 100)"
   ]
  },
  {
   "cell_type": "markdown",
   "id": "7fc9c12e",
   "metadata": {},
   "source": [
    "### Сохранение и выгрузка модели (catboost ranking)"
   ]
  },
  {
   "cell_type": "code",
   "execution_count": null,
   "id": "6a6b16c3",
   "metadata": {},
   "outputs": [],
   "source": [
    "model_cat_best = GS_cat.best_estimator_#best estimator with the highest score\n",
    "model_cat_best.save_model('catboost_ranking_model')#save best catboostRanking model"
   ]
  },
  {
   "cell_type": "markdown",
   "id": "961ffcf8",
   "metadata": {},
   "source": [
    "### Модель для относительной оценки комментариев \n",
    "###### (разрешение ситуаций в которых catboost выдаёт двум комментариям одинаковый счёт)"
   ]
  },
  {
   "cell_type": "markdown",
   "id": "51c8abbf",
   "metadata": {},
   "source": [
    "### cross-product датасета фичей с самим собой"
   ]
  },
  {
   "cell_type": "code",
   "execution_count": null,
   "id": "4d5063a9",
   "metadata": {},
   "outputs": [],
   "source": [
    "train_features_c = train_features\n",
    "score_c = train_features_c.score\n",
    "\n",
    "train_features_c = train_features_c.drop([\"score\"], axis = 1)"
   ]
  },
  {
   "cell_type": "code",
   "execution_count": null,
   "id": "0cd30056",
   "metadata": {},
   "outputs": [],
   "source": [
    "dfs = [train_features_c[train_features_c['group_id'] == id].merge(train_features_c[train_features_c['group_id'] == id], how='cross') for id in train_features_c['group_id'].unique()]\n",
    "X_train_csl = pd.concat(dfs, axis=0)"
   ]
  },
  {
   "cell_type": "code",
   "execution_count": null,
   "id": "a812169c",
   "metadata": {},
   "outputs": [],
   "source": [
    "X_train_csl['score_dif'] = (X_train_csl['score_x'] > X_train_csl['score_y'])\n",
    "\n",
    "X = X_train_csl\n",
    "\n",
    "X = X.drop(X[X['score_x'] == X['score_y']].index)\n",
    "\n",
    "X = X.drop(['group_id_x', 'group_id_y', 'score_dif', 'score_x', 'score_y'], axis = 1)"
   ]
  },
  {
   "cell_type": "code",
   "execution_count": null,
   "id": "5209cfbb",
   "metadata": {},
   "outputs": [],
   "source": [
    "X_train_c, X_test_c, y_train_c, y_test_c = train_test_split(X, y, test_size=0.3, random_state=42)"
   ]
  },
  {
   "cell_type": "markdown",
   "id": "c74ad230",
   "metadata": {},
   "source": [
    "### Обучение модели для относительной оценки"
   ]
  },
  {
   "cell_type": "code",
   "execution_count": null,
   "id": "3d3f9bfc",
   "metadata": {},
   "outputs": [],
   "source": [
    "cv = StratifiedKFold(shuffle=True, n_splits = 4)\n",
    "\n",
    "model_cat_classificator = CatBoostClassifier(verbose = 100, task_type = 'GPU', objective = 'Logloss')#catboost model for classification\n",
    "\n",
    "#grid of parameters\n",
    "params_cat_classificator = {'learning_rate': [0.01, 0.05, 0.1],\n",
    "                            'depth': [4, 5, 7],\n",
    "                            'l2_leaf_reg': [3, 7, 10],\n",
    "                            'n_estimators': [100, 500 ,100]}\n",
    "\n",
    "#gridsearch model\n",
    "GS_cat_classificator = GridSearchCV(cv =cv, estimator = model_cat_classificator, param_grid = params_cat_classificator, scoring='roc_auc')"
   ]
  },
  {
   "cell_type": "code",
   "execution_count": null,
   "id": "426c7693",
   "metadata": {},
   "outputs": [],
   "source": [
    "GS_cat_classificator.fit(X = X_train_c, y = y_train_c, eval_set=(X_test_c, y_test_c))\n",
    "model_cat_classificator_best = GS_cat_classificator.best_estimator_"
   ]
  },
  {
   "cell_type": "markdown",
   "id": "a1d008f4",
   "metadata": {},
   "source": [
    "### Получение результатов"
   ]
  },
  {
   "cell_type": "code",
   "execution_count": null,
   "id": "03904410",
   "metadata": {},
   "outputs": [],
   "source": [
    "test = test.drop(['post', 'comment'], axis = 1)"
   ]
  },
  {
   "cell_type": "code",
   "execution_count": null,
   "id": "bc5fba09",
   "metadata": {},
   "outputs": [],
   "source": [
    "ndcg_n = 0\n",
    "k = 0\n",
    "target_train = []\n",
    "\n",
    "for i in range(test.shape[0] // 5):\n",
    "    k+=1\n",
    "\n",
    "    prediction = catboost_ranker_first_iteration.predict(test[i*5:5*(i + 1)])\n",
    "\n",
    "    m = 1\n",
    "    for j in range(5):\n",
    "        for r in range(j,5):\n",
    "            M = abs(prediction[j] - prediction[r])\n",
    "            if M < m and M != 0:\n",
    "                m = M\n",
    "\n",
    "    m /= 10\n",
    "    for j in range(5):\n",
    "        for r in range(j,5):\n",
    "            if r != j:\n",
    "                if prediction[j] == prediction[r]:\n",
    "                    clas_key_1 = catboost_classificator_first_iteration.predict_proba(list(test.iloc[i*5+j])+list(test.iloc[i*5+r]))[0]\n",
    "                    clas_key_2 = catboost_classificator_first_iteration.predict_proba(list(test.iloc[i*5+r])+list(test.iloc[i*5+j]))[0]\n",
    "                    prediction[j] += (clas_key_1 - clas_key_2) * m\n",
    "\n",
    "\n",
    "    dict_pred = [[4-i,prediction[i]] for i in range(5)]\n",
    "\n",
    "    sorted_pred = sorted(dict_pred,key = lambda i: i[1], reverse = True)\n",
    "\n",
    "    list_pred = sorted([[sorted_pred[i][0], 4-i] for i in range(5)], key = lambda i: i[0], reverse = True)\n",
    "\n",
    "    target_post = [4 - i[1] for i in list_pred]\n",
    "    target_train = target_train + target_post\n",
    "\n",
    "\n",
    "pd.DataFrame(target_train).to_csv('target_test.csv', index = False)"
   ]
  },
  {
   "cell_type": "code",
   "execution_count": null,
   "id": "48397519",
   "metadata": {},
   "outputs": [],
   "source": [
    "target = pd.read_csv('target_test.csv').values"
   ]
  },
  {
   "cell_type": "code",
   "execution_count": null,
   "id": "76acbfd7",
   "metadata": {},
   "outputs": [],
   "source": [
    "test_result = pd.read_json('ranking_test.jsonl', lines=True, encoding='utf-8')"
   ]
  },
  {
   "cell_type": "code",
   "execution_count": null,
   "id": "882b1026",
   "metadata": {},
   "outputs": [],
   "source": [
    "for i in range(len(target) // 5):\n",
    "    for j in range(5):\n",
    "        test_result['comments'].iloc[i][j]['score'] = target[i * 5 + j][0]"
   ]
  },
  {
   "cell_type": "markdown",
   "id": "837066a5",
   "metadata": {},
   "source": [
    "## Выгрузка результатов"
   ]
  },
  {
   "cell_type": "code",
   "execution_count": null,
   "id": "390346f7",
   "metadata": {},
   "outputs": [],
   "source": [
    "test_result.to_json('results.jsonl', orient='records', lines=True)"
   ]
  }
 ],
 "metadata": {
  "kernelspec": {
   "display_name": "Python 3 (ipykernel)",
   "language": "python",
   "name": "python3"
  },
  "language_info": {
   "codemirror_mode": {
    "name": "ipython",
    "version": 3
   },
   "file_extension": ".py",
   "mimetype": "text/x-python",
   "name": "python",
   "nbconvert_exporter": "python",
   "pygments_lexer": "ipython3",
   "version": "3.8.10"
  }
 },
 "nbformat": 4,
 "nbformat_minor": 5
}
